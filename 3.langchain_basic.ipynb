{
 "cells": [
  {
   "cell_type": "code",
   "execution_count": 2,
   "id": "5addd8ca",
   "metadata": {},
   "outputs": [
    {
     "name": "stdout",
     "output_type": "stream",
     "text": [
      "OPENAI_API_KEY:  sk-proj-pw\n"
     ]
    }
   ],
   "source": [
    "from dotenv import load_dotenv\n",
    "import os\n",
    "print(\"OPENAI_API_KEY: \", os.getenv(\"OPENAI_API_KEY\")[:10])"
   ]
  },
  {
   "cell_type": "markdown",
   "id": "5482ba88",
   "metadata": {},
   "source": [
    "# promptTemplate"
   ]
  },
  {
   "cell_type": "code",
   "execution_count": 3,
   "id": "a9253ac7",
   "metadata": {},
   "outputs": [],
   "source": [
    "from langchain_core.prompts import PromptTemplate\n"
   ]
  },
  {
   "cell_type": "code",
   "execution_count": 4,
   "id": "e077ec37",
   "metadata": {},
   "outputs": [],
   "source": [
    "template = \"what is a good name for a company that makes {product}?\"\n",
    "prompt = PromptTemplate.from_template(template)"
   ]
  },
  {
   "cell_type": "code",
   "execution_count": 6,
   "id": "c1ad8274",
   "metadata": {},
   "outputs": [
    {
     "name": "stdout",
     "output_type": "stream",
     "text": [
      "what is a good name for a company that makes colorful socks?\n"
     ]
    }
   ],
   "source": [
    "formatted_prompt = prompt.format(product=\"colorful socks\")\n",
    "print(formatted_prompt)"
   ]
  },
  {
   "cell_type": "markdown",
   "id": "e5f39e47",
   "metadata": {},
   "source": [
    "# ChatOpenAI"
   ]
  },
  {
   "cell_type": "code",
   "execution_count": 7,
   "id": "c9ace3bf",
   "metadata": {},
   "outputs": [],
   "source": [
    "from langchain_openai import ChatOpenAI\n"
   ]
  },
  {
   "cell_type": "code",
   "execution_count": 24,
   "id": "540169b7",
   "metadata": {},
   "outputs": [],
   "source": [
    "llm = ChatOpenAI(model=\"gpt-4.1-nano\",max_tokens = 50, temperature=0.2)"
   ]
  },
  {
   "cell_type": "code",
   "execution_count": 9,
   "id": "144fabbf",
   "metadata": {},
   "outputs": [
    {
     "name": "stdout",
     "output_type": "stream",
     "text": [
      "content=\"Hello! I'm doing well, thank you. How can I assist you today?\" additional_kwargs={'refusal': None} response_metadata={'token_usage': {'completion_tokens': 16, 'prompt_tokens': 13, 'total_tokens': 29, 'completion_tokens_details': {'accepted_prediction_tokens': 0, 'audio_tokens': 0, 'reasoning_tokens': 0, 'rejected_prediction_tokens': 0}, 'prompt_tokens_details': {'audio_tokens': 0, 'cached_tokens': 0}}, 'model_name': 'gpt-4.1-nano-2025-04-14', 'system_fingerprint': 'fp_38343a2f8f', 'id': 'chatcmpl-Bk1xJDqYrPQKyQGsNChEdenO9rDZH', 'service_tier': 'default', 'finish_reason': 'stop', 'logprobs': None} id='run--26125faa-78f0-4163-b414-c8dba2f47904-0' usage_metadata={'input_tokens': 13, 'output_tokens': 16, 'total_tokens': 29, 'input_token_details': {'audio': 0, 'cache_read': 0}, 'output_token_details': {'audio': 0, 'reasoning': 0}}\n"
     ]
    }
   ],
   "source": [
    "response = llm.invoke([(\"human\",\"Hello, how are you?\")])\n",
    "print(response)"
   ]
  },
  {
   "cell_type": "markdown",
   "id": "0e6a18a6",
   "metadata": {},
   "source": [
    "# Runnable\n",
    "-Runnable 인터페이스 : 실행 가능 구성 요소  \n",
    "-서로 다른 컴포넌트 호환되는 형태로 결합 될 수 있게 만들어 준다."
   ]
  },
  {
   "cell_type": "markdown",
   "id": "a47b05ae",
   "metadata": {},
   "source": [
    "# StrOutputParser"
   ]
  },
  {
   "cell_type": "code",
   "execution_count": 10,
   "id": "b990c857",
   "metadata": {},
   "outputs": [],
   "source": [
    "from langchain_core.output_parsers import StrOutputParser"
   ]
  },
  {
   "cell_type": "code",
   "execution_count": 11,
   "id": "5c020266",
   "metadata": {},
   "outputs": [
    {
     "name": "stdout",
     "output_type": "stream",
     "text": [
      "Hello! I'm doing well, thank you. How can I assist you today?\n"
     ]
    }
   ],
   "source": [
    "parser = StrOutputParser()\n",
    "parsed_responese = parser.invoke(response)\n",
    "print(parsed_responese)"
   ]
  },
  {
   "cell_type": "markdown",
   "id": "b168b908",
   "metadata": {},
   "source": [
    "# Pipeline, LCEL(langChain excution language)"
   ]
  },
  {
   "cell_type": "code",
   "execution_count": 13,
   "id": "91b20396",
   "metadata": {},
   "outputs": [],
   "source": [
    "chain = prompt | llm | parser #promptTemplate -> ChatOpenAI -> StrOutpuParser"
   ]
  },
  {
   "cell_type": "code",
   "execution_count": 14,
   "id": "25adfe69",
   "metadata": {},
   "outputs": [],
   "source": [
    "result = chain.invoke({\"product\": \"coffee\"})"
   ]
  },
  {
   "cell_type": "code",
   "execution_count": 15,
   "id": "1762ad75",
   "metadata": {},
   "outputs": [
    {
     "name": "stdout",
     "output_type": "stream",
     "text": [
      "Here are some creative and appealing name ideas for a coffee company:\n",
      "\n",
      "1. Brew Haven  \n",
      "2. Java Junction  \n",
      "3. Morning Mug  \n",
      "4. Bean & Bliss  \n",
      "5. Roast & Rise  \n",
      "6. Caffeine Craft  \n",
      "7. Sunrise Coffee\n"
     ]
    }
   ],
   "source": [
    "print(result)"
   ]
  },
  {
   "cell_type": "markdown",
   "id": "37d7d196",
   "metadata": {},
   "source": [
    "# LangChain 으로 토큰 사용량 추적\n"
   ]
  },
  {
   "cell_type": "code",
   "execution_count": 17,
   "id": "899814bf",
   "metadata": {},
   "outputs": [
    {
     "name": "stdout",
     "output_type": "stream",
     "text": [
      "토큰 사용 정보 :  {'input_tokens': 13, 'output_tokens': 16, 'total_tokens': 29, 'input_token_details': {'audio': 0, 'cache_read': 0}, 'output_token_details': {'audio': 0, 'reasoning': 0}}\n"
     ]
    }
   ],
   "source": [
    "print(\"토큰 사용 정보 : \", response.usage_metadata)"
   ]
  },
  {
   "cell_type": "code",
   "execution_count": 18,
   "id": "d266919b",
   "metadata": {},
   "outputs": [
    {
     "name": "stderr",
     "output_type": "stream",
     "text": [
      "\u001b[2mResolved \u001b[1m136 packages\u001b[0m \u001b[2min 843ms\u001b[0m\u001b[0m\n",
      "\u001b[36m\u001b[1mDownloading\u001b[0m\u001b[39m langchain-community \u001b[2m(2.4MiB)\u001b[0m\n",
      " \u001b[32m\u001b[1mDownloaded\u001b[0m\u001b[39m langchain-community\n",
      "\u001b[2mPrepared \u001b[1m14 packages\u001b[0m \u001b[2min 5.29s\u001b[0m\u001b[0m\n",
      "\u001b[2mInstalled \u001b[1m15 packages\u001b[0m \u001b[2min 615ms\u001b[0m\u001b[0m\n",
      " \u001b[32m+\u001b[39m \u001b[1maiohappyeyeballs\u001b[0m\u001b[2m==2.6.1\u001b[0m\n",
      " \u001b[32m+\u001b[39m \u001b[1maiohttp\u001b[0m\u001b[2m==3.12.13\u001b[0m\n",
      " \u001b[32m+\u001b[39m \u001b[1maiosignal\u001b[0m\u001b[2m==1.3.2\u001b[0m\n",
      " \u001b[32m+\u001b[39m \u001b[1mdataclasses-json\u001b[0m\u001b[2m==0.6.7\u001b[0m\n",
      " \u001b[32m+\u001b[39m \u001b[1mfrozenlist\u001b[0m\u001b[2m==1.7.0\u001b[0m\n",
      " \u001b[32m+\u001b[39m \u001b[1mhttpx-sse\u001b[0m\u001b[2m==0.4.0\u001b[0m\n",
      " \u001b[32m+\u001b[39m \u001b[1mlangchain-community\u001b[0m\u001b[2m==0.3.25\u001b[0m\n",
      " \u001b[32m+\u001b[39m \u001b[1mmarshmallow\u001b[0m\u001b[2m==3.26.1\u001b[0m\n",
      " \u001b[32m+\u001b[39m \u001b[1mmultidict\u001b[0m\u001b[2m==6.5.0\u001b[0m\n",
      " \u001b[32m+\u001b[39m \u001b[1mmypy-extensions\u001b[0m\u001b[2m==1.1.0\u001b[0m\n",
      " \u001b[32m+\u001b[39m \u001b[1mnumpy\u001b[0m\u001b[2m==2.3.0\u001b[0m\n",
      " \u001b[32m+\u001b[39m \u001b[1mpropcache\u001b[0m\u001b[2m==0.3.2\u001b[0m\n",
      " \u001b[32m+\u001b[39m \u001b[1mpydantic-settings\u001b[0m\u001b[2m==2.9.1\u001b[0m\n",
      " \u001b[32m+\u001b[39m \u001b[1mtyping-inspect\u001b[0m\u001b[2m==0.9.0\u001b[0m\n",
      " \u001b[32m+\u001b[39m \u001b[1myarl\u001b[0m\u001b[2m==1.20.1\u001b[0m\n"
     ]
    }
   ],
   "source": [
    "!uv add langchain_community"
   ]
  },
  {
   "cell_type": "code",
   "execution_count": 19,
   "id": "7f1ac659",
   "metadata": {},
   "outputs": [],
   "source": [
    "# 콜백을 통한 누적 토큰 추적\n",
    "from langchain_community.callbacks import get_openai_callback"
   ]
  },
  {
   "cell_type": "code",
   "execution_count": 20,
   "id": "a5b766f3",
   "metadata": {},
   "outputs": [
    {
     "name": "stdout",
     "output_type": "stream",
     "text": [
      "응답 :  죄송하지만, 현재 실시간 날씨 정보를 제공할 수 없습니 ....\n",
      "응답 :  물론입니다! 파이썬에서 리스트를 만드는 방법에 대해 몇 ....\n"
     ]
    }
   ],
   "source": [
    "with get_openai_callback() as cb:\n",
    "    res1 = llm.invoke(\"조치원의 오늘 날씨는 어떤지 알려줘\")\n",
    "    print(\"응답 : \", res1.content[:30],\"....\")\n",
    "\n",
    "    res2 = llm.invoke(\"파이썬으로 리스트 만드는 방법을 예시로 알려줘.\")\n",
    "    print(\"응답 : \", res2.content[:30], \"....\")"
   ]
  },
  {
   "cell_type": "code",
   "execution_count": 21,
   "id": "9234e9b9",
   "metadata": {},
   "outputs": [
    {
     "name": "stdout",
     "output_type": "stream",
     "text": [
      "총 토큰 수 : 130\n",
      "프롬프트(인풋) 토큰 수 : 40\n",
      "응답(아웃풋) 토큰 수 : 90\n",
      "총 비용 : 0.000040\n"
     ]
    }
   ],
   "source": [
    "print(f\"총 토큰 수 : {cb.total_tokens}\")\n",
    "print(f\"프롬프트(인풋) 토큰 수 : {cb.prompt_tokens}\")\n",
    "print(f\"응답(아웃풋) 토큰 수 : {cb.completion_tokens}\")\n",
    "print(f\"총 비용 : {cb.total_cost:.6f}\")"
   ]
  },
  {
   "cell_type": "markdown",
   "id": "8bee0680",
   "metadata": {},
   "source": [
    "# LangChain LLM 응답 캐싱"
   ]
  },
  {
   "cell_type": "code",
   "execution_count": 28,
   "id": "94d27c79",
   "metadata": {},
   "outputs": [],
   "source": [
    "from  langchain_core.caches import InMemoryCache\n",
    "from langchain_core.globals import set_llm_cache\n",
    "#InmemryCach 설정\n",
    "set_llm_cache(InMemoryCache())"
   ]
  },
  {
   "cell_type": "code",
   "execution_count": 29,
   "id": "28c676ba",
   "metadata": {},
   "outputs": [
    {
     "name": "stdout",
     "output_type": "stream",
     "text": [
      "응답1 :  물론이죠! 여기 재미있는 과학자 유머 하나 알려드릴게요:\n",
      "\n",
      "왜 천문학자는 항상 별을 좋아할까요?  \n",
      "왜냐하면, 그들은 항상 \"별\"을 바라보니까요!\n"
     ]
    }
   ],
   "source": [
    "query = \"재미있는  과학자 유머 하나 알려줘.\"\n",
    "result1 = llm.invoke(query)\n",
    "print(\"응답1 : \",result1.content)"
   ]
  },
  {
   "cell_type": "code",
   "execution_count": 30,
   "id": "e802f9ef",
   "metadata": {},
   "outputs": [
    {
     "name": "stdout",
     "output_type": "stream",
     "text": [
      "응답2 :  물론이죠! 여기 재미있는 과학자 유머 하나 알려드릴게요:\n",
      "\n",
      "왜 천문학자는 항상 별을 좋아할까요?  \n",
      "왜냐하면, 그들은 항상 \"별\"을 바라보니까요!\n"
     ]
    }
   ],
   "source": [
    "result2 = llm.invoke(query)\n",
    "print(\"응답2 : \", result2.content)"
   ]
  },
  {
   "cell_type": "code",
   "execution_count": 33,
   "id": "7bdf649f",
   "metadata": {},
   "outputs": [],
   "source": [
    "# SQLite를 이용 디스크 기반 캐시 설정\n",
    "import os \n",
    "from langchain_community.cache import SQLiteCache"
   ]
  },
  {
   "cell_type": "code",
   "execution_count": 34,
   "id": "83ecdd45",
   "metadata": {},
   "outputs": [],
   "source": [
    "# 기존 캐시 DB 삭제(실습을 위해서!)\n",
    "if os.path.exists(\".langchain_cache.db\"):\n",
    "    os.remove(\".lanchain_cache.db\")\n",
    "    \n",
    "# SQLiteCache 설정\n",
    "set_llm_cache(SQLiteCache(database_path=\".langchain_cache.db\"))"
   ]
  },
  {
   "cell_type": "code",
   "execution_count": 35,
   "id": "e5753840",
   "metadata": {},
   "outputs": [
    {
     "name": "stdout",
     "output_type": "stream",
     "text": [
      "응답1 :  물리학자가 친구에게 말했어요, \"나는 항상 힘이 세다고 생각했는데, 너는 왜 그렇게 힘이 없니?\" 그러자 친구가 대답했어요, \"그건 내가 힘이 없어서가 아니라,\n"
     ]
    }
   ],
   "source": [
    "query = \"재미있는  과학자 유머 하나 알려줘.\"\n",
    "result1 = llm.invoke(query)\n",
    "print(\"응답1 : \", result1.content)"
   ]
  },
  {
   "cell_type": "code",
   "execution_count": 36,
   "id": "23c7cfa3",
   "metadata": {},
   "outputs": [
    {
     "name": "stdout",
     "output_type": "stream",
     "text": [
      "응답2 :  물리학자가 친구에게 말했어요, \"나는 항상 힘이 세다고 생각했는데, 너는 왜 그렇게 힘이 없니?\" 그러자 친구가 대답했어요, \"그건 내가 힘이 없어서가 아니라,\n"
     ]
    }
   ],
   "source": [
    "result2 = llm.invoke(query)\n",
    "print(\"응답2 : \", result2.content)"
   ]
  },
  {
   "cell_type": "code",
   "execution_count": null,
   "id": "fe7f151d",
   "metadata": {},
   "outputs": [],
   "source": []
  }
 ],
 "metadata": {
  "kernelspec": {
   "display_name": ".venv",
   "language": "python",
   "name": "python3"
  },
  "language_info": {
   "codemirror_mode": {
    "name": "ipython",
    "version": 3
   },
   "file_extension": ".py",
   "mimetype": "text/x-python",
   "name": "python",
   "nbconvert_exporter": "python",
   "pygments_lexer": "ipython3",
   "version": "3.13.2"
  }
 },
 "nbformat": 4,
 "nbformat_minor": 5
}
