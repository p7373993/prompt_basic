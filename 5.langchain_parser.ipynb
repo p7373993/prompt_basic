{
 "cells": [
  {
   "cell_type": "code",
   "execution_count": null,
   "id": "9f3857b2",
   "metadata": {},
   "outputs": [],
   "source": [
    "from langchain_openai import ChatOpenAI"
   ]
  }
 ],
 "metadata": {
  "language_info": {
   "name": "python"
  }
 },
 "nbformat": 4,
 "nbformat_minor": 5
}
