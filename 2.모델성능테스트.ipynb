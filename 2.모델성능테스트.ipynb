{
 "cells": [
  {
   "cell_type": "code",
   "execution_count": null,
   "id": "31b08b84",
   "metadata": {},
   "outputs": [],
   "source": [
    "from dotenv import load_dotenv\n",
    "import os\n",
    "from anthropic import Anthropic\n",
    "from IPython.display import display,Markdown\n",
    "load_dotenv()"
   ]
  },
  {
   "cell_type": "code",
   "execution_count": null,
   "id": "7bf44e26",
   "metadata": {},
   "outputs": [],
   "source": [
    "client = Anthropic(api_key=os.getenv(\"ANTHROPIC_API_KEY\"))"
   ]
  },
  {
   "cell_type": "code",
   "execution_count": null,
   "id": "b505aaa4",
   "metadata": {},
   "outputs": [],
   "source": [
    "def compare_models():\n",
    "    models = [\n",
    "        \"claude-3-haiku-20240307\",\n",
    "        \"claude-3-5-sonnet-20240620\",\n",
    "        \"claude-3-opus-20240229\",\n",
    "    ]\n",
    "    tasks = \"\"\"\n",
    "        다음 문제를 해결하십시오.\n",
    "        <문제>\n",
    "        4명의 용의자 중 3명은 진실을 1명은 거짓말을 한다.\n",
    "        A는 B가 범인이다라고 말합니다.\n",
    "        B는 C가 범인이다라고 말합니다.\n",
    "        C는 D가 범인이다라고 말합니다.\n",
    "        D는 C가 범인이다라고 말하니다.\n",
    "        </문제>\n",
    "        이 문제에 대해서 해결할 수 없다면 해결할 수 없다고 말하십시오.\n",
    "    \"\"\"\n",
    "    \n",
    "    \n",
    "    for model in models:\n",
    "        # print(model)\n",
    "        answers = []\n",
    "        for _ in range(5):\n",
    "            response = client.messages.create(\n",
    "                model=model,\n",
    "                messages=[\n",
    "                    {\"role\":\"user\",\"content\":tasks}\n",
    "                ],\n",
    "                max_tokens=1000,\n",
    "            )\n",
    "            answers.append(response.content[0].text)\n",
    "            # answers.append(\"***\")\n",
    "        display(Markdown(f\"## Model: {model}\"))\n",
    "        for i,answer  in enumerate(answers):\n",
    "            display(Markdown(f\"{i+1}. {answer}\"))\n",
    "            print(\"\\n\\n\")"
   ]
  },
  {
   "cell_type": "code",
   "execution_count": null,
   "id": "fe44b2ca",
   "metadata": {},
   "outputs": [],
   "source": [
    "# compare_models()"
   ]
  },
  {
   "cell_type": "markdown",
   "id": "2fbb95c7",
   "metadata": {},
   "source": [
    "# 모델 파라미터 테스트"
   ]
  },
  {
   "cell_type": "code",
   "execution_count": null,
   "id": "8c50f987",
   "metadata": {},
   "outputs": [],
   "source": [
    "prompt = \"\"\"당신은 주어진 입력을 바탕으로 인기 있는 소설을 작성하는 임무를 맡았습니다. 목표는 지정된 장르의 관행을 준수하면서 목표 독자층에게 어필하는 매력적이고 시장성 있는 이야기를 만드는 것입니다.\n",
    "\n",
    "<characters> \n",
    "주인공: 지민, 27세 여성. IT 회사 직원이지만 비밀리에 초능력을 가지고 있음. 목표는 능력을 숨기며 평범한 삶을 사는 것.\n",
    "남자 주인공: 준호, 30세 남성. 비밀 요원으로 초능력자들을 찾는 임무를 맡고 있음. 지민에게 끌리지만 의무와 감정 사이에서 갈등함.\n",
    "적대자: 서진, 35세 여성. 초능력자들을 이용해 세계를 지배하려는 비밀 조직의 리더.\n",
    "</characters>\n",
    "\n",
    "<plot> \n",
    "지민의 능력이 우연히 드러나면서 준호의 주목을 받게 됨. 둘은 서로를 경계하다가 점점 가까워지지만, 서진의 조직이 지민을 노리면서 위험에 빠짐. 준호와 지민은 힘을 합쳐 조직에 맞서 싸우며 사랑에 빠짐.\n",
    "</plot> \n",
    "\n",
    "<setting> \n",
    "서울의 번화가. 현대적인 도시 풍경과 첨단 기술, 그리고 숨겨진 초능력 세계가 공존하는 곳.\n",
    "</setting>\n",
    "\n",
    "<point_of_view>\n",
    "3인칭 제한적 시점. 주로 지민과 준호의 관점에서 이야기를 전개.\n",
    "</point_of_view>\n",
    "\n",
    "<conflict> \n",
    "내적 갈등: 지민의 정체성 혼란, 준호의 의무와 감정 사이의 갈등\n",
    "외적 갈등: 서진의 조직과의 대립, 사회의 편견과 두려움\n",
    "</conflict> \n",
    "\n",
    "<theme> \n",
    "진정한 자아 받아들이기, 신뢰와 사랑의 힘, 다름을 인정하는 사회\n",
    "</theme>\n",
    "\n",
    "<structure> \n",
    "3부 구조. 1부: 능력 발각과 만남, 2부: 관계 발전과 위기 고조, 3부: 최종 대결과 해결\n",
    "</structure>\n",
    "\n",
    "<style> \n",
    "현대적이고 감각적인 문체. 때로는 유머러스하게, 때로는 긴장감 있게 서술.\n",
    "</style>\n",
    "\n",
    "<dialogue> \n",
    "\"네 능력이 위험할 수 있어. 하지만 난 널 지키고 싶어.\" (준호)\n",
    "\"내 능력은 저주가 아니야. 이젠 알아. 이건 내 일부야.\" (지민)\n",
    "</dialogue>\n",
    "\n",
    "<description> \n",
    "\"지민의 손끝에서 푸른 빛이 춤추듯 일렁였다. 준호의 눈이 휘둥그레졌다. 서울의 밤하늘보다 더 아름다운 광경이었다.\"\n",
    "</description>\n",
    "\n",
    "<pacing> \n",
    "잔잔한 일상 묘사와 긴박한 액션 신을 번갈아가며 독자의 흥미를 유지.\n",
    "</pacing>\n",
    "\n",
    "위 소설의 구성 요소를 모두 활용해서 소설을 1부만 작성해주세요.\"\"\""
   ]
  },
  {
   "cell_type": "code",
   "execution_count": null,
   "id": "d183451e",
   "metadata": {},
   "outputs": [],
   "source": [
    "prompt[:30]"
   ]
  },
  {
   "cell_type": "markdown",
   "id": "73a09760",
   "metadata": {},
   "source": [
    "# Temperature"
   ]
  },
  {
   "cell_type": "code",
   "execution_count": null,
   "id": "09fea50d",
   "metadata": {},
   "outputs": [],
   "source": [
    "response1 = client.messages.create(\n",
    "    model = \"claude-3-5-sonnet-20240620\",\n",
    "    messages = [\n",
    "        {\"role\":\"user\",\"content\":prompt},\n",
    "    ],\n",
    "    max_tokens=2048,\n",
    "    temperature=1\n",
    ")"
   ]
  },
  {
   "cell_type": "code",
   "execution_count": null,
   "id": "44933967",
   "metadata": {},
   "outputs": [],
   "source": [
    "display(Markdown(response1.content[0].text))"
   ]
  },
  {
   "cell_type": "code",
   "execution_count": null,
   "id": "3b8f10db",
   "metadata": {},
   "outputs": [],
   "source": [
    "response2 = client.messages.create(\n",
    "    model=\"claude-3-5-sonnet-20240620\",\n",
    "    messages=[\n",
    "        {\"role\": \"user\", \"content\": prompt},\n",
    "    ],\n",
    "    max_tokens=2048,\n",
    "    temperature=0,\n",
    ")"
   ]
  },
  {
   "cell_type": "code",
   "execution_count": null,
   "id": "d7525527",
   "metadata": {},
   "outputs": [],
   "source": [
    "display(Markdown(response2.content[0].text))"
   ]
  },
  {
   "cell_type": "markdown",
   "id": "619423cc",
   "metadata": {},
   "source": [
    "# max_tokens"
   ]
  },
  {
   "cell_type": "code",
   "execution_count": null,
   "id": "ab07e06f",
   "metadata": {},
   "outputs": [],
   "source": [
    "response = client.messages.create(\n",
    "    model=\"claude-3-5-sonnet-20240620\",\n",
    "    messages=[\n",
    "        {\"role\": \"user\", \"content\": prompt},\n",
    "    ],\n",
    "    max_tokens=10,\n",
    "    temperature=0,\n",
    ")\n",
    "display(Markdown(response.content[0].text))"
   ]
  },
  {
   "cell_type": "code",
   "execution_count": null,
   "id": "23481fe8",
   "metadata": {},
   "outputs": [],
   "source": [
    "response = client.messages.create(\n",
    "    model=\"claude-3-5-sonnet-20240620\",\n",
    "    messages=[\n",
    "        {\"role\": \"user\", \"content\": prompt},\n",
    "    ],\n",
    "    max_tokens=512,\n",
    "    temperature=0,\n",
    ")\n",
    "display(Markdown(response.content[0].text))"
   ]
  },
  {
   "cell_type": "markdown",
   "id": "6ef005f5",
   "metadata": {},
   "source": [
    "# stop_sequence"
   ]
  },
  {
   "cell_type": "code",
   "execution_count": null,
   "id": "a3870456",
   "metadata": {},
   "outputs": [],
   "source": [
    "prompt2 = \"\"\"당신은 주어진 입력을 바탕으로 인기 있는 소설을 작성하는 임무를 맡았습니다. 목표는 지정된 장르의 관행을 준수하면서 목표 독자층에게 어필하는 매력적이고 시장성 있는 이야기를 만드는 것입니다.\n",
    "\n",
    "<characters> \n",
    "주인공: 지민, 27세 여성. IT 회사 직원이지만 비밀리에 초능력을 가지고 있음. 목표는 능력을 숨기며 평범한 삶을 사는 것.\n",
    "남자 주인공: 준호, 30세 남성. 비밀 요원으로 초능력자들을 찾는 임무를 맡고 있음. 지민에게 끌리지만 의무와 감정 사이에서 갈등함.\n",
    "적대자: 서진, 35세 여성. 초능력자들을 이용해 세계를 지배하려는 비밀 조직의 리더.\n",
    "</characters>\n",
    "\n",
    "<plot> \n",
    "지민의 능력이 우연히 드러나면서 준호의 주목을 받게 됨. 둘은 서로를 경계하다가 점점 가까워지지만, 서진의 조직이 지민을 노리면서 위험에 빠짐. 준호와 지민은 힘을 합쳐 조직에 맞서 싸우며 사랑에 빠짐.\n",
    "</plot> \n",
    "\n",
    "<setting> \n",
    "서울의 번화가. 현대적인 도시 풍경과 첨단 기술, 그리고 숨겨진 초능력 세계가 공존하는 곳.\n",
    "</setting>\n",
    "\n",
    "<point_of_view>\n",
    "3인칭 제한적 시점. 주로 지민과 준호의 관점에서 이야기를 전개.\n",
    "</point_of_view>\n",
    "\n",
    "<conflict> \n",
    "내적 갈등: 지민의 정체성 혼란, 준호의 의무와 감정 사이의 갈등\n",
    "외적 갈등: 서진의 조직과의 대립, 사회의 편견과 두려움\n",
    "</conflict> \n",
    "\n",
    "<theme> \n",
    "진정한 자아 받아들이기, 신뢰와 사랑의 힘, 다름을 인정하는 사회\n",
    "</theme>\n",
    "\n",
    "<structure> \n",
    "3부 구조. 1부: 능력 발각과 만남, 2부: 관계 발전과 위기 고조, 3부: 최종 대결과 해결\n",
    "</structure>\n",
    "\n",
    "<style> \n",
    "현대적이고 감각적인 문체. 때로는 유머러스하게, 때로는 긴장감 있게 서술.\n",
    "</style>\n",
    "\n",
    "<dialogue> \n",
    "\"네 능력이 위험할 수 있어. 하지만 난 널 지키고 싶어.\" (준호)\n",
    "\"내 능력은 저주가 아니야. 이젠 알아. 이건 내 일부야.\" (지민)\n",
    "</dialogue>\n",
    "\n",
    "<description> \n",
    "\"지민의 손끝에서 푸른 빛이 춤추듯 일렁였다. 준호의 눈이 휘둥그레졌다. 서울의 밤하늘보다 더 아름다운 광경이었다.\"\n",
    "</description>\n",
    "\n",
    "<pacing> \n",
    "잔잔한 일상 묘사와 긴박한 액션 신을 번갈아가며 독자의 흥미를 유지.\n",
    "</pacing>\n",
    "\n",
    "위 소설의 구성 요소를 모두 활용해서 소설을 1부만 작성해주세요.\n",
    "소설의 출력은 다음 output_format에 태그를 따라서 출력해주세요\n",
    "<output_format>\n",
    "{{\n",
    "    \"title\" : \"소설의 제목\",\n",
    "    \"content\":\"소설의 내용\",\n",
    "}}\n",
    "</output_format>\n",
    "\"\"\""
   ]
  },
  {
   "cell_type": "code",
   "execution_count": null,
   "id": "f12dae8d",
   "metadata": {
    "vscode": {
     "languageId": "javascript"
    }
   },
   "outputs": [],
   "source": [
    "prompt2[-20:]"
   ]
  },
  {
   "cell_type": "code",
   "execution_count": null,
   "id": "80c201e8",
   "metadata": {
    "vscode": {
     "languageId": "javascript"
    }
   },
   "outputs": [],
   "source": [
    "response = client.messages.create(\n",
    "    model=\"claude-3-5-sonnet-20240620\",\n",
    "    messages=[\n",
    "        {\"role\": \"user\", \"content\": prompt2},\n",
    "    ],\n",
    "    max_tokens=2048,\n",
    "    temperature=0,\n",
    "    stop_sequences=[\"}\"]\n",
    ")\n",
    "display(Markdown(response.content[0].text))"
   ]
  }
 ],
 "metadata": {
  "kernelspec": {
   "display_name": ".venv",
   "language": "python",
   "name": "python3"
  },
  "language_info": {
   "codemirror_mode": {
    "name": "ipython",
    "version": 3
   },
   "file_extension": ".py",
   "mimetype": "text/x-python",
   "name": "python",
   "nbconvert_exporter": "python",
   "pygments_lexer": "ipython3",
   "version": "3.13.2"
  }
 },
 "nbformat": 4,
 "nbformat_minor": 5
}
