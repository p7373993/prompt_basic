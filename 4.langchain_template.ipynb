{
 "cells": [
  {
   "cell_type": "markdown",
   "id": "2026b3ab",
   "metadata": {},
   "source": [
    "# 단일 입력 프롬프트 템플릿 "
   ]
  },
  {
   "cell_type": "code",
   "execution_count": 6,
   "id": "c896c826",
   "metadata": {},
   "outputs": [],
   "source": [
    "from langchain.prompts import PromptTemplate"
   ]
  },
  {
   "cell_type": "code",
   "execution_count": 7,
   "id": "b6224f21",
   "metadata": {},
   "outputs": [
    {
     "data": {
      "text/plain": [
       "'0.3.25'"
      ]
     },
     "execution_count": 7,
     "metadata": {},
     "output_type": "execute_result"
    }
   ],
   "source": [
    "import langchain\n",
    "langchain.__version__"
   ]
  },
  {
   "cell_type": "code",
   "execution_count": 16,
   "id": "7bf5933f",
   "metadata": {},
   "outputs": [
    {
     "name": "stdout",
     "output_type": "stream",
     "text": [
      "당신은 최고 수준의 마케팅 카피라이터 입니다. \n",
      "아래 제품의 매력적인 홍보 문구를 100자 내외로 작성하십시오.\n",
      "\n",
      "제품 명:초 슈퍼\n"
     ]
    }
   ],
   "source": [
    "# 탬플릿 문자열 : 프롬프트의 골격을 정의\n",
    "# promptTemplate 객체 생성 : 인스턴스 변수 선언\n",
    "# 포멧(format) 메서드 수행 : promptTemplate.format() \n",
    "#LLM 호출 \n",
    "template_str = (\n",
    "    \"당신은 최고 수준의 마케팅 카피라이터 입니다. \\n\"\n",
    "    \"아래 제품의 매력적인 홍보 문구를 100자 내외로 작성하십시오.\\n\\n\"\n",
    "    \"제품 명:{product_name}\"\n",
    ")\n",
    "\n",
    "prompt = PromptTemplate.from_template(template_str)\n",
    "\n",
    "input_str = input(\"제품명을 입력하세여 : \")\n",
    "formatted_prompt = prompt.format(product_name =input_str)\n",
    "print(formatted_prompt)"
   ]
  },
  {
   "cell_type": "code",
   "execution_count": 17,
   "id": "e67059e0",
   "metadata": {},
   "outputs": [
    {
     "name": "stdout",
     "output_type": "stream",
     "text": [
      "초 슈퍼와 함께라면 일상이 더 활기차지고 건강해집니다! 자연의 힘으로 가득 찬 최고의 선택, 지금 경험하세요!\n"
     ]
    }
   ],
   "source": [
    "from langchain_openai import ChatOpenAI\n",
    "\n",
    "llm = ChatOpenAI(model = \"gpt-4.1-nano\",temperature=0)\n",
    "\n",
    "chain = prompt | llm\n",
    "result = chain.invoke({\"product_name\": input_str})\n",
    "print(result.content)"
   ]
  },
  {
   "cell_type": "markdown",
   "id": "a6f7dcb3",
   "metadata": {},
   "source": [
    "# 다중 입력 PromptTemplate"
   ]
  },
  {
   "cell_type": "code",
   "execution_count": 22,
   "id": "6435e5ef",
   "metadata": {},
   "outputs": [
    {
     "name": "stdout",
     "output_type": "stream",
     "text": [
      "아래는 뉴스 기사 제목과 키워드입니다.\n",
      "이 정보를 바탕으로 한 문단으로 구성된 간략한 요약문을 작성하십시오. \n",
      "\n",
      "제목 : 인공지능 발전과 미래\n",
      "키워드 : 머신러닝,딥러닝,산업,혁신,llm\n",
      "\n"
     ]
    }
   ],
   "source": [
    "multi_tempalte_str = (\n",
    "    \"아래는 뉴스 기사 제목과 키워드입니다.\\n\"\n",
    "    \"이 정보를 바탕으로 한 문단으로 구성된 간략한 요약문을 작성하십시오. \\n\\n\"\n",
    "    \"제목 : {title}\\n\"\n",
    "    \"키워드 : {keywords}\\n\"\n",
    ")\n",
    "\n",
    "summary_prompt = PromptTemplate(template=multi_tempalte_str,input_variables=[\"title\",\"keywords\"])\n",
    "sample_title = \"인공지능 발전과 미래\"\n",
    "sample_key = \"머신러닝,딥러닝,산업,혁신,llm\"\n",
    "formatted_summary_prompt = summary_prompt.format(title =sample_title,keywords = sample_key)\n",
    "print(formatted_summary_prompt)"
   ]
  },
  {
   "cell_type": "code",
   "execution_count": 24,
   "id": "938c38a1",
   "metadata": {},
   "outputs": [
    {
     "name": "stdout",
     "output_type": "stream",
     "text": [
      "인공지능의 발전은 머신러닝과 딥러닝 기술의 발전을 바탕으로 산업 전반에 혁신을 가져오고 있으며, 특히 대규모 언어 모델(LLM)의 등장으로 인공지능의 활용 범위와 성능이 크게 향상되고 있어 미래 산업의 변화와 혁신이 기대되고 있습니다.\n"
     ]
    }
   ],
   "source": [
    "result_summary = (summary_prompt | llm).invoke(\n",
    "    {\n",
    "        \"title\":sample_title,\n",
    "        \"keywords\":sample_key\n",
    "    }\n",
    ")\n",
    "\n",
    "print(result_summary.content)"
   ]
  },
  {
   "cell_type": "markdown",
   "id": "91903788",
   "metadata": {},
   "source": [
    "# ChatPromptTemplate\n",
    "\n",
    "-   역할 기반 프롬프트"
   ]
  },
  {
   "cell_type": "code",
   "execution_count": 25,
   "id": "2cbed73f",
   "metadata": {},
   "outputs": [],
   "source": [
    "from langchain.prompts import ChatPromptTemplate\n"
   ]
  },
  {
   "cell_type": "code",
   "execution_count": 29,
   "id": "cd549854",
   "metadata": {},
   "outputs": [
    {
     "name": "stdout",
     "output_type": "stream",
     "text": [
      "[SystemMessage(content='당신은 파이썬 분야의 뛰어난 전문가입니다.사용자의 프로그래밍 질문에 친절하고 이해하기 쉽게 답변하십시오.', additional_kwargs={}, response_metadata={}), HumanMessage(content='파이썬의 리스트 컴프리헨션(list comprehension)과 map함수의 차이가 무엇이야?', additional_kwargs={}, response_metadata={})]\n"
     ]
    }
   ],
   "source": [
    "# 시나리오 : 파이썬 프로그램 전문가 역할 부여 , 사용자가 파이썬 관련 질문에 친절히, 간결한 답변 하도록\n",
    "sys_message = (\"당신은 파이썬 분야의 뛰어난 전문가입니다.\"\n",
    "               \"사용자의 프로그래밍 질문에 친절하고 이해하기 쉽게 답변하십시오.\")\n",
    "user_messaqe = \"{question}\" # 사용자 질문 -> 실행 시 입력값으로 채워진다.\n",
    "\n",
    "chat_prompt = ChatPromptTemplate.from_messages([\n",
    "    (\"system\",sys_message),\n",
    "    (\"user\",user_messaqe)\n",
    "])\n",
    "\n",
    "sample_question = \"파이썬의 리스트 컴프리헨션(list comprehension)과 map함수의 차이가 무엇이야?\"\n",
    "\n",
    "message = chat_prompt.format_messages(question = sample_question)\n",
    "print(message)"
   ]
  },
  {
   "cell_type": "code",
   "execution_count": 30,
   "id": "5ad2ad50",
   "metadata": {},
   "outputs": [
    {
     "name": "stdout",
     "output_type": "stream",
     "text": [
      "안녕하세요! 파이썬에서 리스트 컴프리헨션과 `map()` 함수는 둘 다 기존 리스트(또는 이터러블)의 각 요소에 대해 어떤 작업을 수행해서 새 리스트를 만드는 데 사용되지만, 몇 가지 차이점이 있어요. 아래에서 쉽게 설명해 드릴게요.\n",
      "\n",
      "---\n",
      "\n",
      "### 1. 문법과 가독성\n",
      "- **리스트 컴프리헨션**은 더 직관적이고 간결한 문법을 가지고 있어요.\n",
      "  \n",
      "  ```python\n",
      "  # 예: 0부터 4까지의 제곱\n",
      "  squares = [x**2 for x in range(5)]\n",
      "  ```\n",
      "\n",
      "- **`map()` 함수**는 함수와 이터러블을 인자로 받아서, 그 함수가 이터러블의 각 요소에 적용된 결과를 반환해요.\n",
      "  \n",
      "  ```python\n",
      "  def square(x):\n",
      "      return x**2\n",
      "\n",
      "  squares = list(map(square, range(5)))\n",
      "  ```\n",
      "\n",
      "---\n",
      "\n",
      "### 2. 함수 사용 방식\n",
      "- **리스트 컴프리헨션**은 내부에 조건문이나 복잡한 표현식을 넣을 수 있어요.\n",
      "  \n",
      "  ```python\n",
      "  # 짝수만 제곱\n",
      "  even_squares = [x**2 for x in range(10) if x % 2 == 0]\n",
      "  ```\n",
      "\n",
      "- **`map()`**은 보통 하나의 함수만 적용할 수 있고, 조건문을 넣으려면 별도로 필터링이 필요해요.\n",
      "  \n",
      "  ```python\n",
      "  def is_even(x):\n",
      "      return x % 2 == 0\n",
      "\n",
      "  even_numbers = list(filter(is_even, range(10)))\n",
      "  ```\n",
      "\n",
      "---\n",
      "\n",
      "### 3. 성능\n",
      "- 일반적으로 **리스트 컴프리헨션**이 약간 더 빠른 경우가 많아요. 하지만 차이는 미미해서, 가독성과 편의성을 우선시하는 게 좋아요.\n",
      "\n",
      "---\n",
      "\n",
      "### 4. 유연성\n",
      "- **리스트 컴프리헨션**은 복잡한 조건이나 여러 표현식을 넣기 쉽고, 가독성도 좋아서 복잡한 작업에 적합해요.\n",
      "- **`map()`**은 간단한 함수 적용에 적합하며, 이미 정의된 함수를 재사용할 때 유리해요.\n",
      "\n",
      "---\n",
      "\n",
      "### 정리\n",
      "| 특징 | 리스트 컴프리헨션 | `map()` 함수 |\n",
      "|---|---|---|\n",
      "| 문법 | `[expression for item in iterable if condition]` | `list(map(function, iterable))` |\n",
      "| 가독성 | 높음, 직관적 | 간단한 경우 적합 |\n",
      "| 조건문 | 가능 | 별도 `filter()` 필요 |\n",
      "| 복잡한 표현 | 쉽게 가능 | 제한적 |\n",
      "| 성능 | 대체로 빠름 | 비슷하거나 약간 느림 |\n",
      "\n",
      "---\n",
      "\n",
      "혹시 더 궁금한 점 있거나, 구체적인 예제 필요하시면 말씀해 주세요!\n"
     ]
    }
   ],
   "source": [
    "result = (chat_prompt | llm ).invoke({\n",
    "    \"question\" : sample_question\n",
    "})\n",
    "\n",
    "print(result.content)"
   ]
  },
  {
   "cell_type": "markdown",
   "id": "0f7e88b1",
   "metadata": {},
   "source": [
    "# PartialPromptTemplate"
   ]
  },
  {
   "cell_type": "code",
   "execution_count": 32,
   "id": "f49edef3",
   "metadata": {},
   "outputs": [],
   "source": [
    "from langchain.prompts import SystemMessagePromptTemplate\n",
    "from langchain.prompts import HumanMessagePromptTemplate\n",
    "\n",
    "role_system_templete = \"당신은 {role}분야의 전문 지식인입니다. 가능한 한 자세히 답변해 주세요.\"\n",
    "system_prompt = SystemMessagePromptTemplate.from_template(role_system_templete)\n",
    "user_prompt = HumanMessagePromptTemplate.from_template(\"{question}\")\n",
    "\n",
    "base_chat_prompt = ChatPromptTemplate.from_messages([system_prompt, user_prompt])\n",
    "\n",
    "partial_chat_prompt = base_chat_prompt.partial(role=\"주식투자\")\n",
    "\n"
   ]
  },
  {
   "cell_type": "code",
   "execution_count": 33,
   "id": "0e69402a",
   "metadata": {},
   "outputs": [
    {
     "name": "stdout",
     "output_type": "stream",
     "text": [
      "[SystemMessage(content='당신은 주식투자분야의 전문 지식인입니다. 가능한 한 자세히 답변해 주세요.', additional_kwargs={}, response_metadata={}), HumanMessage(content='현재 주식 시장의 트렌드는 무엇인가요?', additional_kwargs={}, response_metadata={})]\n"
     ]
    }
   ],
   "source": [
    "sample_question = \"현재 주식 시장의 트렌드는 무엇인가요?\"\n",
    "message = partial_chat_prompt.format_messages(question=sample_question)\n",
    "print(message)"
   ]
  },
  {
   "cell_type": "code",
   "execution_count": 35,
   "id": "76d7024e",
   "metadata": {},
   "outputs": [
    {
     "name": "stdout",
     "output_type": "stream",
     "text": [
      "현재(2024년 4월 기준) 주식 시장의 트렌드는 여러 요인에 영향을 받고 있으며, 글로벌 경제 상황, 금리 정책, 기술 발전, 지정학적 리스크, 그리고 시장 심리 등 다양한 요소가 복합적으로 작용하고 있습니다. 아래에 주요 트렌드와 그 배경을 상세히 설명드리겠습니다.\n",
      "\n",
      "1. **기술주와 성장주 중심의 강세 지속**\n",
      "   - 인공지능(AI), 클라우드 컴퓨팅, 반도체, 전기차, 5G/6G 등 첨단 기술 분야의 기업들이 여전히 시장의 주도주로 자리 잡고 있습니다.\n",
      "   - 특히, AI와 관련된 기업들은 혁신 기대감과 함께 높은 성장 기대를 받고 있으며, 이로 인해 관련 지수와 개별 종목이 강세를 보이고 있습니다.\n",
      "   - 글로벌 기술기업들의 실적 호조와 신기술 개발 소식이 시장에 긍정적 영향을 미치고 있습니다.\n",
      "\n",
      "2. **금리 인상 기조와 그에 따른 시장 변동성**\n",
      "   - 미국 연방준비제도(Fed)를 비롯한 주요 중앙은행들이 인플레이션 억제와 경기 과열 방지를 위해 금리 인상을 지속하거나 유지하는 정책을 펼치고 있습니다.\n",
      "   - 높은 금리 환경은 성장주에 대한 할인율을 높여 주가에 압력을 가하지만, 동시에 금융주와 같은 금리 민감주에는 긍정적 영향을 미치기도 합니다.\n",
      "   - 시장은 금리 인상과 인하 기대 사이에서 변동성을 보이고 있으며, 투자자들은 금리 정책의 방향성을 주시하고 있습니다.\n",
      "\n",
      "3. **인플레이션과 경기 둔화 우려의 공존**\n",
      "   - 일부 국가에서는 인플레이션이 여전히 높은 수준을 유지하고 있어, 긴축 정책이 지속되고 있습니다.\n",
      "   - 동시에, 글로벌 경기 성장률이 둔화 조짐을 보이면서 경기침체 우려도 커지고 있습니다.\n",
      "   - 이러한 양면적 상황은 시장의 변동성을 높이고 있으며, 방어적 섹터(헬스케어, 유틸리티 등)에 대한 관심이 증가하는 추세입니다.\n",
      "\n",
      "4. **에너지 및 원자재 가격 변동성**\n",
      "   - 글로벌 지정학적 리스크(중동, 우크라이나 등)와 공급망 문제로 인해 원유, 천연가스, 금속 가격이 변동성을 보이고 있습니다.\n",
      "   - 에너지 섹터는 가격 상승 기대와 함께 강세를 보이고 있으며, 원자재 가격은 글로벌 수요와 공급 상황에 따라 움직이고 있습니다.\n",
      "\n",
      "5. **지속가능성 및 ESG(환경·사회·지배구조) 투자 확대**\n",
      "   - 친환경 정책과 기후변화 대응이 글로벌 트렌드로 자리 잡으며, 관련 기업과 ETF에 대한 관심이 높아지고 있습니다.\n",
      "   - 기업들의 ESG 경영이 투자 판단의 중요한 기준이 되고 있으며, 지속가능한 성장 전략이 시장의 핵심 이슈로 부상하고 있습니다.\n",
      "\n",
      "6. **신흥시장과 선진시장 간의 차별화**\n",
      "   - 미국 시장은 여전히 글로벌 투자자들의 관심이 집중되어 있으며, 기술주 강세가 지속되고 있습니다.\n",
      "   - 중국, 인도 등 신흥시장도 성장 잠재력에 힘입어 일부 섹터에서 강세를 보이고 있으나, 정책 리스크와 규제 강화 우려도 존재합니다.\n",
      "\n",
      "7. **시장 심리와 기술적 분석의 중요성 부각**\n",
      "   - 시장 변동성이 크고, 단기적 이슈에 민감하게 반응하는 경향이 강해지고 있어, 기술적 분석과 시장 심리 분석이 투자 전략에서 중요한 역할을 하고 있습니다.\n",
      "   - 인공지능 기반의 투자 도구와 알고리즘 트레이딩이 점차 확산되고 있습니다.\n",
      "\n",
      "---\n",
      "\n",
      "### 결론\n",
      "현재 주식 시장은 글로벌 경제와 정책 환경, 기술 혁신, 지정학적 리스크 등 복합적인 요인들이 상호작용하며 변동성을 유지하고 있습니다. 성장주와 기술주가 강세를 보이면서도, 금리와 인플레이션 우려, 경기 둔화 가능성 등으로 인해 투자자들은 신중한 접근이 필요합니다. 장기적 관점에서는 지속가능성, 기술 혁신, 글로벌 경제 회복 기대가 시장의 핵심 동력으로 작용하고 있으며, 단기적 변동성에 대비한 분산 투자와 리스크 관리가 중요하다고 할 수 있습니다.\n",
      "\n",
      "추가로 특정 섹터나 지역, 또는 투자 전략에 대한 상세한 분석이 필요하시면 말씀해 주세요.\n"
     ]
    }
   ],
   "source": [
    "partial_result = (partial_chat_prompt | llm).invoke({\"question\" : sample_question})\n",
    "print(partial_result.content)"
   ]
  },
  {
   "cell_type": "code",
   "execution_count": null,
   "id": "d16ed755",
   "metadata": {},
   "outputs": [],
   "source": []
  }
 ],
 "metadata": {
  "kernelspec": {
   "display_name": ".venv",
   "language": "python",
   "name": "python3"
  },
  "language_info": {
   "codemirror_mode": {
    "name": "ipython",
    "version": 3
   },
   "file_extension": ".py",
   "mimetype": "text/x-python",
   "name": "python",
   "nbconvert_exporter": "python",
   "pygments_lexer": "ipython3",
   "version": "3.13.2"
  }
 },
 "nbformat": 4,
 "nbformat_minor": 5
}
