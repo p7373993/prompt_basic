{
 "cells": [
  {
   "cell_type": "markdown",
   "id": "2026b3ab",
   "metadata": {},
   "source": [
    "# 단일 입력 프롬프트 템플릿 "
   ]
  },
  {
   "cell_type": "code",
   "execution_count": 6,
   "id": "c896c826",
   "metadata": {},
   "outputs": [],
   "source": [
    "from langchain.prompts import PromptTemplate"
   ]
  },
  {
   "cell_type": "code",
   "execution_count": 7,
   "id": "b6224f21",
   "metadata": {},
   "outputs": [
    {
     "data": {
      "text/plain": [
       "'0.3.25'"
      ]
     },
     "execution_count": 7,
     "metadata": {},
     "output_type": "execute_result"
    }
   ],
   "source": [
    "import langchain\n",
    "langchain.__version__"
   ]
  },
  {
   "cell_type": "code",
   "execution_count": 16,
   "id": "7bf5933f",
   "metadata": {},
   "outputs": [
    {
     "name": "stdout",
     "output_type": "stream",
     "text": [
      "당신은 최고 수준의 마케팅 카피라이터 입니다. \n",
      "아래 제품의 매력적인 홍보 문구를 100자 내외로 작성하십시오.\n",
      "\n",
      "제품 명:초 슈퍼\n"
     ]
    }
   ],
   "source": [
    "# 탬플릿 문자열 : 프롬프트의 골격을 정의\n",
    "# promptTemplate 객체 생성 : 인스턴스 변수 선언\n",
    "# 포멧(format) 메서드 수행 : promptTemplate.format() \n",
    "#LLM 호출 \n",
    "template_str = (\n",
    "    \"당신은 최고 수준의 마케팅 카피라이터 입니다. \\n\"\n",
    "    \"아래 제품의 매력적인 홍보 문구를 100자 내외로 작성하십시오.\\n\\n\"\n",
    "    \"제품 명:{product_name}\"\n",
    ")\n",
    "\n",
    "prompt = PromptTemplate.from_template(template_str)\n",
    "\n",
    "input_str = input(\"제품명을 입력하세여 : \")\n",
    "formatted_prompt = prompt.format(product_name =input_str)\n",
    "print(formatted_prompt)"
   ]
  },
  {
   "cell_type": "code",
   "execution_count": 17,
   "id": "e67059e0",
   "metadata": {},
   "outputs": [
    {
     "name": "stdout",
     "output_type": "stream",
     "text": [
      "초 슈퍼와 함께라면 일상이 더 활기차지고 건강해집니다! 자연의 힘으로 가득 찬 최고의 선택, 지금 경험하세요!\n"
     ]
    }
   ],
   "source": [
    "from langchain_openai import ChatOpenAI\n",
    "\n",
    "llm = ChatOpenAI(model = \"gpt-4.1-nano\",temperature=0)\n",
    "\n",
    "chain = prompt | llm\n",
    "result = chain.invoke({\"product_name\": input_str})\n",
    "print(result.content)"
   ]
  },
  {
   "cell_type": "markdown",
   "id": "a6f7dcb3",
   "metadata": {},
   "source": [
    "# 다중 입력 PromptTemplate"
   ]
  },
  {
   "cell_type": "code",
   "execution_count": 22,
   "id": "6435e5ef",
   "metadata": {},
   "outputs": [
    {
     "name": "stdout",
     "output_type": "stream",
     "text": [
      "아래는 뉴스 기사 제목과 키워드입니다.\n",
      "이 정보를 바탕으로 한 문단으로 구성된 간략한 요약문을 작성하십시오. \n",
      "\n",
      "제목 : 인공지능 발전과 미래\n",
      "키워드 : 머신러닝,딥러닝,산업,혁신,llm\n",
      "\n"
     ]
    }
   ],
   "source": [
    "multi_tempalte_str = (\n",
    "    \"아래는 뉴스 기사 제목과 키워드입니다.\\n\"\n",
    "    \"이 정보를 바탕으로 한 문단으로 구성된 간략한 요약문을 작성하십시오. \\n\\n\"\n",
    "    \"제목 : {title}\\n\"\n",
    "    \"키워드 : {keywords}\\n\"\n",
    ")\n",
    "\n",
    "summary_prompt = PromptTemplate(template=multi_tempalte_str,input_variables=[\"title\",\"keywords\"])\n",
    "sample_title = \"인공지능 발전과 미래\"\n",
    "sample_key = \"머신러닝,딥러닝,산업,혁신,llm\"\n",
    "formatted_summary_prompt = summary_prompt.format(title =sample_title,keywords = sample_key)\n",
    "print(formatted_summary_prompt)"
   ]
  },
  {
   "cell_type": "code",
   "execution_count": 24,
   "id": "938c38a1",
   "metadata": {},
   "outputs": [
    {
     "name": "stdout",
     "output_type": "stream",
     "text": [
      "인공지능의 발전은 머신러닝과 딥러닝 기술의 발전을 바탕으로 산업 전반에 혁신을 가져오고 있으며, 특히 대규모 언어 모델(LLM)의 등장으로 인공지능의 활용 범위와 성능이 크게 향상되고 있어 미래 산업의 변화와 혁신이 기대되고 있습니다.\n"
     ]
    }
   ],
   "source": [
    "result_summary = (summary_prompt | llm).invoke(\n",
    "    {\n",
    "        \"title\":sample_title,\n",
    "        \"keywords\":sample_key\n",
    "    }\n",
    ")\n",
    "\n",
    "print(result_summary.content)"
   ]
  },
  {
   "cell_type": "markdown",
   "id": "91903788",
   "metadata": {},
   "source": [
    "# ChatPromptTemplate\n",
    "\n",
    "-   역할 기반 프롬프트"
   ]
  },
  {
   "cell_type": "code",
   "execution_count": 25,
   "id": "2cbed73f",
   "metadata": {},
   "outputs": [],
   "source": [
    "from langchain.prompts import ChatPromptTemplate\n"
   ]
  },
  {
   "cell_type": "code",
   "execution_count": 29,
   "id": "cd549854",
   "metadata": {},
   "outputs": [
    {
     "name": "stdout",
     "output_type": "stream",
     "text": [
      "[SystemMessage(content='당신은 파이썬 분야의 뛰어난 전문가입니다.사용자의 프로그래밍 질문에 친절하고 이해하기 쉽게 답변하십시오.', additional_kwargs={}, response_metadata={}), HumanMessage(content='파이썬의 리스트 컴프리헨션(list comprehension)과 map함수의 차이가 무엇이야?', additional_kwargs={}, response_metadata={})]\n"
     ]
    }
   ],
   "source": [
    "# 시나리오 : 파이썬 프로그램 전문가 역할 부여 , 사용자가 파이썬 관련 질문에 친절히, 간결한 답변 하도록\n",
    "sys_message = (\"당신은 파이썬 분야의 뛰어난 전문가입니다.\"\n",
    "               \"사용자의 프로그래밍 질문에 친절하고 이해하기 쉽게 답변하십시오.\")\n",
    "user_messaqe = \"{question}\" # 사용자 질문 -> 실행 시 입력값으로 채워진다.\n",
    "\n",
    "chat_prompt = ChatPromptTemplate.from_messages([\n",
    "    (\"system\",sys_message),\n",
    "    (\"user\",user_messaqe)\n",
    "])\n",
    "\n",
    "sample_question = \"파이썬의 리스트 컴프리헨션(list comprehension)과 map함수의 차이가 무엇이야?\"\n",
    "\n",
    "message = chat_prompt.format_messages(question = sample_question)\n",
    "print(message)"
   ]
  },
  {
   "cell_type": "code",
   "execution_count": 30,
   "id": "5ad2ad50",
   "metadata": {},
   "outputs": [
    {
     "name": "stdout",
     "output_type": "stream",
     "text": [
      "안녕하세요! 파이썬에서 리스트 컴프리헨션과 `map()` 함수는 둘 다 기존 리스트(또는 이터러블)의 각 요소에 대해 어떤 작업을 수행해서 새 리스트를 만드는 데 사용되지만, 몇 가지 차이점이 있어요. 아래에서 쉽게 설명해 드릴게요.\n",
      "\n",
      "---\n",
      "\n",
      "### 1. 문법과 가독성\n",
      "- **리스트 컴프리헨션**은 더 직관적이고 간결한 문법을 가지고 있어요.\n",
      "  \n",
      "  ```python\n",
      "  # 예: 0부터 4까지의 제곱\n",
      "  squares = [x**2 for x in range(5)]\n",
      "  ```\n",
      "\n",
      "- **`map()` 함수**는 함수와 이터러블을 인자로 받아서, 그 함수가 이터러블의 각 요소에 적용된 결과를 반환해요.\n",
      "  \n",
      "  ```python\n",
      "  def square(x):\n",
      "      return x**2\n",
      "\n",
      "  squares = list(map(square, range(5)))\n",
      "  ```\n",
      "\n",
      "---\n",
      "\n",
      "### 2. 함수 사용 방식\n",
      "- **리스트 컴프리헨션**은 내부에 조건문이나 복잡한 표현식을 넣을 수 있어요.\n",
      "  \n",
      "  ```python\n",
      "  # 짝수만 제곱\n",
      "  even_squares = [x**2 for x in range(10) if x % 2 == 0]\n",
      "  ```\n",
      "\n",
      "- **`map()`**은 보통 하나의 함수만 적용할 수 있고, 조건문을 넣으려면 별도로 필터링이 필요해요.\n",
      "  \n",
      "  ```python\n",
      "  def is_even(x):\n",
      "      return x % 2 == 0\n",
      "\n",
      "  even_numbers = list(filter(is_even, range(10)))\n",
      "  ```\n",
      "\n",
      "---\n",
      "\n",
      "### 3. 성능\n",
      "- 일반적으로 **리스트 컴프리헨션**이 약간 더 빠른 경우가 많아요. 하지만 차이는 미미해서, 가독성과 편의성을 우선시하는 게 좋아요.\n",
      "\n",
      "---\n",
      "\n",
      "### 4. 유연성\n",
      "- **리스트 컴프리헨션**은 복잡한 조건이나 여러 표현식을 넣기 쉽고, 가독성도 좋아서 복잡한 작업에 적합해요.\n",
      "- **`map()`**은 간단한 함수 적용에 적합하며, 이미 정의된 함수를 재사용할 때 유리해요.\n",
      "\n",
      "---\n",
      "\n",
      "### 정리\n",
      "| 특징 | 리스트 컴프리헨션 | `map()` 함수 |\n",
      "|---|---|---|\n",
      "| 문법 | `[expression for item in iterable if condition]` | `list(map(function, iterable))` |\n",
      "| 가독성 | 높음, 직관적 | 간단한 경우 적합 |\n",
      "| 조건문 | 가능 | 별도 `filter()` 필요 |\n",
      "| 복잡한 표현 | 쉽게 가능 | 제한적 |\n",
      "| 성능 | 대체로 빠름 | 비슷하거나 약간 느림 |\n",
      "\n",
      "---\n",
      "\n",
      "혹시 더 궁금한 점 있거나, 구체적인 예제 필요하시면 말씀해 주세요!\n"
     ]
    }
   ],
   "source": [
    "result = (chat_prompt | llm ).invoke({\n",
    "    \"question\" : sample_question\n",
    "})\n",
    "\n",
    "print(result.content)"
   ]
  },
  {
   "cell_type": "markdown",
   "id": "0f7e88b1",
   "metadata": {},
   "source": [
    "# PartialPromptTemplate"
   ]
  },
  {
   "cell_type": "code",
   "execution_count": null,
   "id": "f49edef3",
   "metadata": {},
   "outputs": [],
   "source": [
    "from langchain.prompts import SystemMessagePromptTemplate\n",
    "from langchain.prompts import HumanMessagePromptTemplate\n",
    "\n"
   ]
  }
 ],
 "metadata": {
  "kernelspec": {
   "display_name": ".venv",
   "language": "python",
   "name": "python3"
  },
  "language_info": {
   "codemirror_mode": {
    "name": "ipython",
    "version": 3
   },
   "file_extension": ".py",
   "mimetype": "text/x-python",
   "name": "python",
   "nbconvert_exporter": "python",
   "pygments_lexer": "ipython3",
   "version": "3.13.2"
  }
 },
 "nbformat": 4,
 "nbformat_minor": 5
}
