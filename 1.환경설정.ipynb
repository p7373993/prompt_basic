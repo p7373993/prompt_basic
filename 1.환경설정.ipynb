{
 "cells": [
  {
   "cell_type": "code",
   "execution_count": null,
   "id": "29d3ab83",
   "metadata": {},
   "outputs": [],
   "source": [
    "!uv add jupyterlab notebook ipykernel anthropic python-dotenv"
   ]
  },
  {
   "cell_type": "code",
   "execution_count": 4,
   "id": "1a29bcdb",
   "metadata": {},
   "outputs": [
    {
     "name": "stdout",
     "output_type": "stream",
     "text": [
      "sk-ant-api03-\n"
     ]
    }
   ],
   "source": [
    "from dotenv import load_dotenv\n",
    "import os\n",
    "load_dotenv()\n",
    "\n",
    "api_key = os.getenv(\"ANTHROPIC_API_KEY\")\n",
    "print(api_key[:13])"
   ]
  },
  {
   "cell_type": "code",
   "execution_count": null,
   "id": "d715941a",
   "metadata": {},
   "outputs": [
    {
     "name": "stdout",
     "output_type": "stream",
     "text": [
      "[TextBlock(citations=None, text=\"Hello! I'm doing well, thank you for asking. How are you doing today? Is there anything I can help you with?\", type='text')]\n"
     ]
    }
   ],
   "source": [
    "from anthropic import Anthropic\n",
    "client = Anthropic(api_key=api_key)\n",
    "\n",
    "message = [\n",
    "    {\"role\": \"system\",\n",
    "     \"content\":\"너는 개발에 도움이 되는 백엔드 개발자야\"\n",
    "     },\n",
    "        {\"role\": \"user\",\n",
    "     \"content\":\"Hello, how r you? \"},\n",
    "]\n",
    "\n",
    "response= client.messages.create(model=\"claude-3-5-sonnet-20240620\",\n",
    "                                 max_tokens=1000,\n",
    "                                 messages=message,\n",
    "                                 )\n",
    "print(response.content)"
   ]
  }
 ],
 "metadata": {
  "kernelspec": {
   "display_name": ".venv",
   "language": "python",
   "name": "python3"
  },
  "language_info": {
   "codemirror_mode": {
    "name": "ipython",
    "version": 3
   },
   "file_extension": ".py",
   "mimetype": "text/x-python",
   "name": "python",
   "nbconvert_exporter": "python",
   "pygments_lexer": "ipython3",
   "version": "3.13.2"
  }
 },
 "nbformat": 4,
 "nbformat_minor": 5
}
